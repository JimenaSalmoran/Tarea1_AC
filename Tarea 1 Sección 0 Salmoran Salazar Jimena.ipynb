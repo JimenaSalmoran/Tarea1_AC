{
 "cells": [
  {
   "cell_type": "markdown",
   "id": "02cbf5e0",
   "metadata": {},
   "source": [
    "# Tarea 1: Sección 0\n",
    "##### Salmoran Salazar Jimena\n",
    "\n",
    "\n"
   ]
  },
  {
   "cell_type": "markdown",
   "id": "fde56dfc",
   "metadata": {},
   "source": [
    "####  Ejercicio 0.1\n",
    "Completa la siguiente tabla y argumenta tus respuestas debajo. (Nota: Recuerda que debes hacer doble clic en esta celda para editarla, y que en este curso siempre asumiremos que estamos trabajando dentro del paradigma imperativo de la programación.)\n",
    "\n",
    "|Enunciado|1|2|3|4|\n",
    "|-|-|-|-|-|\n",
    "|¿Es código?|NO|NO|SI|SI|\n",
    "|¿Es pseudocódigo?|SI|SI|NO|NO|\n",
    "\n",
    "1 y  2 son pseudocódigos porque son instrucciones que solo puede interpretar un ser humano, la computadora solo lo puede interpretar si se convierte a código.\n",
    "\n",
    "3 es código porque es algo que si puede hacer la computadora, solo es enumerar.\n",
    "\n",
    "4 es código porque solo es dividir uno entre cero, probablemente mande un error pero es una instrucción que si puede lograr la computadora.\n"
   ]
  },
  {
   "cell_type": "code",
   "execution_count": null,
   "id": "56fb918b",
   "metadata": {},
   "outputs": [],
   "source": []
  }
 ],
 "metadata": {
  "kernelspec": {
   "display_name": "Julia 1.8.5",
   "language": "julia",
   "name": "julia-1.8"
  },
  "language_info": {
   "file_extension": ".jl",
   "mimetype": "application/julia",
   "name": "julia",
   "version": "1.8.5"
  }
 },
 "nbformat": 4,
 "nbformat_minor": 5
}
